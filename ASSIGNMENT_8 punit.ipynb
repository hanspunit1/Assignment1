{
  "nbformat": 4,
  "nbformat_minor": 0,
  "metadata": {
    "colab": {
      "provenance": []
    },
    "kernelspec": {
      "name": "python3",
      "display_name": "Python 3"
    },
    "language_info": {
      "name": "python"
    }
  },
  "cells": [
    {
      "cell_type": "code",
      "execution_count": null,
      "metadata": {
        "colab": {
          "base_uri": "https://localhost:8080/"
        },
        "id": "CzeGeDZaQ0Yv",
        "outputId": "fbcee4c9-24aa-4232-95b0-e1587e92f254"
      },
      "outputs": [
        {
          "output_type": "stream",
          "name": "stdout",
          "text": [
            "Collecting en-core-web-sm==3.8.0\n",
            "  Downloading https://github.com/explosion/spacy-models/releases/download/en_core_web_sm-3.8.0/en_core_web_sm-3.8.0-py3-none-any.whl (12.8 MB)\n",
            "\u001b[2K     \u001b[90m━━━━━━━━━━━━━━━━━━━━━━━━━━━━━━━━━━━━━━━━\u001b[0m \u001b[32m12.8/12.8 MB\u001b[0m \u001b[31m94.7 MB/s\u001b[0m eta \u001b[36m0:00:00\u001b[0m\n",
            "\u001b[?25h\u001b[38;5;2m✔ Download and installation successful\u001b[0m\n",
            "You can now load the package via spacy.load('en_core_web_sm')\n",
            "\u001b[38;5;3m⚠ Restart to reload dependencies\u001b[0m\n",
            "If you are in a Jupyter or Colab notebook, you may need to restart Python in\n",
            "order to load all the package's dependencies. You can do this by selecting the\n",
            "'Restart kernel' or 'Restart runtime' option.\n"
          ]
        },
        {
          "output_type": "stream",
          "name": "stderr",
          "text": [
            "[nltk_data] Downloading package punkt to /content/nltk_data...\n",
            "[nltk_data]   Package punkt is already up-to-date!\n",
            "[nltk_data] Downloading package stopwords to /content/nltk_data...\n",
            "[nltk_data]   Package stopwords is already up-to-date!\n",
            "[nltk_data] Downloading package wordnet to /content/nltk_data...\n",
            "[nltk_data]   Package wordnet is already up-to-date!\n",
            "[nltk_data] Downloading package averaged_perceptron_tagger_eng to\n",
            "[nltk_data]     /content/nltk_data...\n",
            "[nltk_data]   Unzipping taggers/averaged_perceptron_tagger_eng.zip.\n"
          ]
        }
      ],
      "source": [
        "# Step 0: Install and Import Libraries\n",
        "!pip install nltk spacy --quiet\n",
        "!python -m spacy download en_core_web_sm\n",
        "\n",
        "import nltk\n",
        "nltk.download('punkt')\n",
        "nltk.download('stopwords')\n",
        "nltk.download('wordnet')\n",
        "nltk.download('averaged_perceptron_tagger')\n",
        "nltk.download('punkt_tab') # Add this line to download the missing resource\n",
        "\n",
        "import re\n",
        "import string\n",
        "import matplotlib.pyplot as plt\n",
        "from collections import Counter\n",
        "\n",
        "from nltk.tokenize import word_tokenize, sent_tokenize\n",
        "from nltk.corpus import stopwords\n",
        "from nltk.stem import PorterStemmer, WordNetLemmatizer\n",
        "import spacy\n",
        "from spacy import displacy"
      ]
    },
    {
      "cell_type": "code",
      "source": [
        "#sample paragraph\n",
        "text = \"\"\"\n",
        "In 2025, Taylor Swift won the Grammy for Album of the Year for the fourth time, setting a new record in music history.\n",
        "The award ceremony was held in Los Angeles, where she gave a powerful speech about female empowerment and creative freedom.\n",
        "\"\"\"\n",
        "\n"
      ],
      "metadata": {
        "id": "oXFvpllURYxE"
      },
      "execution_count": 16,
      "outputs": []
    },
    {
      "cell_type": "code",
      "source": [
        "def clean_text(text):\n",
        "    text = text.lower()\n",
        "    text = re.sub(r'\\d+', '', text)\n",
        "    text = text.translate(str.maketrans('', '', string.punctuation))\n",
        "    text = re.sub(r'\\s+', ' ', text).strip()\n",
        "    return text\n",
        "\n",
        "cleaned_text = clean_text(text)\n",
        "print(\"Cleaned Text:\\n\", cleaned_text)\n"
      ],
      "metadata": {
        "colab": {
          "base_uri": "https://localhost:8080/"
        },
        "id": "aAG4b9UAReVw",
        "outputId": "f2971ac2-c52d-4e33-b87d-74106622b0cd"
      },
      "execution_count": 17,
      "outputs": [
        {
          "output_type": "stream",
          "name": "stdout",
          "text": [
            "Cleaned Text:\n",
            " in taylor swift won the grammy for album of the year for the fourth time setting a new record in music history the award ceremony was held in los angeles where she gave a powerful speech about female empowerment and creative freedom\n"
          ]
        }
      ]
    },
    {
      "cell_type": "code",
      "source": [
        "sentences = sent_tokenize(cleaned_text)\n",
        "words = word_tokenize(cleaned_text)\n",
        "\n",
        "print(\"\\nTokenized Sentences:\\n\", sentences)\n",
        "print(\"\\nTokenized Words:\\n\", words)\n"
      ],
      "metadata": {
        "colab": {
          "base_uri": "https://localhost:8080/"
        },
        "id": "x3Hq7zbURh3t",
        "outputId": "749130c7-246a-4d13-846f-6c3c3625f42a"
      },
      "execution_count": 18,
      "outputs": [
        {
          "output_type": "stream",
          "name": "stdout",
          "text": [
            "\n",
            "Tokenized Sentences:\n",
            " ['in taylor swift won the grammy for album of the year for the fourth time setting a new record in music history the award ceremony was held in los angeles where she gave a powerful speech about female empowerment and creative freedom']\n",
            "\n",
            "Tokenized Words:\n",
            " ['in', 'taylor', 'swift', 'won', 'the', 'grammy', 'for', 'album', 'of', 'the', 'year', 'for', 'the', 'fourth', 'time', 'setting', 'a', 'new', 'record', 'in', 'music', 'history', 'the', 'award', 'ceremony', 'was', 'held', 'in', 'los', 'angeles', 'where', 'she', 'gave', 'a', 'powerful', 'speech', 'about', 'female', 'empowerment', 'and', 'creative', 'freedom']\n"
          ]
        }
      ]
    },
    {
      "cell_type": "code",
      "source": [
        "stop_words = set(stopwords.words('english'))\n",
        "\n",
        "words_filtered = [w for w in words if w not in stop_words]\n",
        "\n",
        "print(\"\\nAfter Stopword Removal:\\n\", words_filtered)\n",
        "print(f\"\\nWord count before: {len(words)} | After: {len(words_filtered)}\")\n",
        "print(f\"Unique words before: {len(set(words))} | After: {len(set(words_filtered))}\")\n"
      ],
      "metadata": {
        "colab": {
          "base_uri": "https://localhost:8080/"
        },
        "id": "z0LTHWrUR6su",
        "outputId": "e7929ec0-c792-46d3-a4ef-bdf7149d420d"
      },
      "execution_count": 19,
      "outputs": [
        {
          "output_type": "stream",
          "name": "stdout",
          "text": [
            "\n",
            "After Stopword Removal:\n",
            " ['taylor', 'swift', 'grammy', 'album', 'year', 'fourth', 'time', 'setting', 'new', 'record', 'music', 'history', 'award', 'ceremony', 'held', 'los', 'angeles', 'gave', 'powerful', 'speech', 'female', 'empowerment', 'creative', 'freedom']\n",
            "\n",
            "Word count before: 42 | After: 24\n",
            "Unique words before: 35 | After: 24\n"
          ]
        }
      ]
    },
    {
      "cell_type": "code",
      "source": [
        "stemmer = PorterStemmer()\n",
        "lemmatizer = WordNetLemmatizer()\n",
        "\n",
        "sample_words = words_filtered[:10]\n",
        "\n",
        "print(\"\\nOriginal | Stemmed | Lemmatized\")\n",
        "print(\"----------------------------------\")\n",
        "for word in sample_words:\n",
        "    print(f\"{word:<10} | {stemmer.stem(word):<10} | {lemmatizer.lemmatize(word)}\")\n"
      ],
      "metadata": {
        "colab": {
          "base_uri": "https://localhost:8080/"
        },
        "id": "-dC245akR9q9",
        "outputId": "3fdc4997-0707-471b-e942-9917b8c57651"
      },
      "execution_count": 20,
      "outputs": [
        {
          "output_type": "stream",
          "name": "stdout",
          "text": [
            "\n",
            "Original | Stemmed | Lemmatized\n",
            "----------------------------------\n",
            "taylor     | taylor     | taylor\n",
            "swift      | swift      | swift\n",
            "grammy     | grammi     | grammy\n",
            "album      | album      | album\n",
            "year       | year       | year\n",
            "fourth     | fourth     | fourth\n",
            "time       | time       | time\n",
            "setting    | set        | setting\n",
            "new        | new        | new\n",
            "record     | record     | record\n"
          ]
        }
      ]
    },
    {
      "cell_type": "code",
      "source": [
        "# Add the download directory to NLTK's data path\n",
        "nltk.data.path.append('/content/nltk_data')\n",
        "\n",
        "pos_tags = nltk.pos_tag(words_filtered)\n",
        "\n",
        "# Count POS Tags\n",
        "tag_counts = Counter(tag for word, tag in pos_tags)\n",
        "\n",
        "# Display counts\n",
        "print(\"\\nPOS Tag Counts:\\n\", tag_counts)\n",
        "\n",
        "# Bar Plot\n",
        "plt.figure(figsize=(10, 5))\n",
        "plt.bar(tag_counts.keys(), tag_counts.values(), color='skyblue')\n",
        "plt.title(\"POS Tag Frequency\")\n",
        "plt.xlabel(\"POS Tag\")\n",
        "plt.ylabel(\"Frequency\")\n",
        "plt.xticks(rotation=45)\n",
        "plt.tight_layout()\n",
        "plt.show()"
      ],
      "metadata": {
        "colab": {
          "base_uri": "https://localhost:8080/",
          "height": 559
        },
        "id": "O2-WAGVkSBH_",
        "outputId": "b2c5f703-b990-4f36-e2da-0ced668d2e51"
      },
      "execution_count": 21,
      "outputs": [
        {
          "output_type": "stream",
          "name": "stdout",
          "text": [
            "\n",
            "POS Tag Counts:\n",
            " Counter({'NN': 13, 'JJ': 7, 'VBD': 2, 'VBG': 1, 'NNS': 1})\n"
          ]
        },
        {
          "output_type": "display_data",
          "data": {
            "text/plain": [
              "<Figure size 1000x500 with 1 Axes>"
            ],
            "image/png": "[encoded data removed]"
          },
          "metadata": {}
        }
      ]
    },
    {
      "cell_type": "code",
      "source": [
        "nlp = spacy.load(\"en_core_web_sm\")\n",
        "doc = nlp(text)\n",
        "\n",
        "print(\"\\nNamed Entities and Labels:\")\n",
        "for ent in doc.ents:\n",
        "    print(f\"{ent.text} → {ent.label_}\")\n",
        "\n",
        "# Visual NER\n",
        "displacy.render(doc, style=\"ent\", jupyter=True)\n"
      ],
      "metadata": {
        "colab": {
          "base_uri": "https://localhost:8080/",
          "height": 243
        },
        "id": "iGF01G8iSVP9",
        "outputId": "736a5968-7ab4-4421-f6b0-34ec3225aebe"
      },
      "execution_count": 22,
      "outputs": [
        {
          "output_type": "stream",
          "name": "stdout",
          "text": [
            "\n",
            "Named Entities and Labels:\n",
            "2025 → DATE\n",
            "Taylor Swift → PERSON\n",
            "Grammy → PERSON\n",
            "fourth → ORDINAL\n",
            "Los Angeles → GPE\n"
          ]
        },
        {
          "output_type": "display_data",
          "data": {
            "text/plain": [
              "<IPython.core.display.HTML object>"
            ],
            "text/html": [
              "<span class=\"tex2jax_ignore\"><div class=\"entities\" style=\"line-height: 2.5; direction: ltr\"><br>In \n",
              "<mark class=\"entity\" style=\"background: #bfe1d9; padding: 0.45em 0.6em; margin: 0 0.25em; line-height: 1; border-radius: 0.35em;\">\n",
              "    2025\n",
              "    <span style=\"font-size: 0.8em; font-weight: bold; line-height: 1; border-radius: 0.35em; vertical-align: middle; margin-left: 0.5rem\">DATE</span>\n",
              "</mark>\n",
              ", \n",
              "<mark class=\"entity\" style=\"background: #aa9cfc; padding: 0.45em 0.6em; margin: 0 0.25em; line-height: 1; border-radius: 0.35em;\">\n",
              "    Taylor Swift\n",
              "    <span style=\"font-size: 0.8em; font-weight: bold; line-height: 1; border-radius: 0.35em; vertical-align: middle; margin-left: 0.5rem\">PERSON</span>\n",
              "</mark>\n",
              " won the \n",
              "<mark class=\"entity\" style=\"background: #aa9cfc; padding: 0.45em 0.6em; margin: 0 0.25em; line-height: 1; border-radius: 0.35em;\">\n",
              "    Grammy\n",
              "    <span style=\"font-size: 0.8em; font-weight: bold; line-height: 1; border-radius: 0.35em; vertical-align: middle; margin-left: 0.5rem\">PERSON</span>\n",
              "</mark>\n",
              " for Album of the Year for the \n",
              "<mark class=\"entity\" style=\"background: #e4e7d2; padding: 0.45em 0.6em; margin: 0 0.25em; line-height: 1; border-radius: 0.35em;\">\n",
              "    fourth\n",
              "    <span style=\"font-size: 0.8em; font-weight: bold; line-height: 1; border-radius: 0.35em; vertical-align: middle; margin-left: 0.5rem\">ORDINAL</span>\n",
              "</mark>\n",
              " time, setting a new record in music history. <br>The award ceremony was held in \n",
              "<mark class=\"entity\" style=\"background: #feca74; padding: 0.45em 0.6em; margin: 0 0.25em; line-height: 1; border-radius: 0.35em;\">\n",
              "    Los Angeles\n",
              "    <span style=\"font-size: 0.8em; font-weight: bold; line-height: 1; border-radius: 0.35em; vertical-align: middle; margin-left: 0.5rem\">GPE</span>\n",
              "</mark>\n",
              ", where she gave a powerful speech about female empowerment and creative freedom.<br></div></span>"
            ]
          },
          "metadata": {}
        }
      ]
    }
  ]
}