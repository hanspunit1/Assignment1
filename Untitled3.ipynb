{
  "nbformat": 4,
  "nbformat_minor": 0,
  "metadata": {
    "colab": {
      "provenance": []
    },
    "kernelspec": {
      "name": "python3",
      "display_name": "Python 3"
    },
    "language_info": {
      "name": "python"
    }
  },
  "cells": [
    {
      "cell_type": "code",
      "execution_count": 30,
      "metadata": {
        "colab": {
          "base_uri": "https://localhost:8080/"
        },
        "id": "1LGYAW0Kkdct",
        "outputId": "c5125a76-dcdc-4fd2-91c2-c8c5fa8a8244"
      },
      "outputs": [
        {
          "output_type": "stream",
          "name": "stdout",
          "text": [
            "Liters of fuel needed for the trip: 41.30 liters\n"
          ]
        }
      ],
      "source": [
        "# Quention 1\n",
        "\n",
        "# Given data\n",
        "fuel_efficiency = 11.5\n",
        "total_distance = 475\n",
        "price_per_liter = 1.65\n",
        "tank_capacity = 50\n",
        "# a. liters of fuel needed for the entire trip\n",
        "liters_needed = total_distance / fuel_efficiency\n",
        "print(f\"Liters of fuel needed for the trip: {liters_needed:.2f} liters\")"
      ]
    },
    {
      "cell_type": "code",
      "source": [
        "# b. How many full tanks of fuel does this represents\n",
        "full_tanks = liters_needed // tank_capacity\n",
        "print(f\"Full tanks of fuel needed: {int(full_tanks)}\")\n"
      ],
      "metadata": {
        "colab": {
          "base_uri": "https://localhost:8080/"
        },
        "id": "5GynSmfZAQSe",
        "outputId": "69a48c25-5b39-42e6-8b9f-cc592212b4b3"
      },
      "execution_count": 31,
      "outputs": [
        {
          "output_type": "stream",
          "name": "stdout",
          "text": [
            "Full tanks of fuel needed: 0\n"
          ]
        }
      ]
    },
    {
      "cell_type": "code",
      "source": [
        "# c. total estimated fuel cost for the trip\n",
        "total_cost = liters_needed * price_per_liter\n",
        "print(f\"Total estimated fuel cost for the trip: ${total_cost:.2f}\")\n"
      ],
      "metadata": {
        "colab": {
          "base_uri": "https://localhost:8080/"
        },
        "id": "1acIkUYbAS8p",
        "outputId": "e4ecc5cf-501f-41dd-a8be-c17bc36ff44a"
      },
      "execution_count": 32,
      "outputs": [
        {
          "output_type": "stream",
          "name": "stdout",
          "text": [
            "Total estimated fuel cost for the trip: $68.15\n"
          ]
        }
      ]
    },
    {
      "cell_type": "code",
      "source": [
        "# d. liters of fuel remaining in the tank\n",
        "remaining_fuel = tank_capacity - liters_needed\n",
        "print(f\"Remaining fuel in the tank after the trip: {remaining_fuel:.2f} liters\")"
      ],
      "metadata": {
        "colab": {
          "base_uri": "https://localhost:8080/"
        },
        "id": "7dFDPtkhAUfN",
        "outputId": "99f12e0f-871c-4576-e68a-b99a8edddf54"
      },
      "execution_count": 33,
      "outputs": [
        {
          "output_type": "stream",
          "name": "stdout",
          "text": [
            "Remaining fuel in the tank after the trip: 8.70 liters\n"
          ]
        }
      ]
    },
    {
      "cell_type": "code",
      "source": [
        "# Question 2\n",
        "# values for part a\n",
        "age = 30\n",
        "is_weekday = True\n",
        "is_family_day = False\n",
        "group_size = 3\n",
        "\n",
        "# check for discount eligibility\n",
        "discount_qualifies = (age <= 12 and is_weekday) or (age >= 65) or (is_family_day and group_size >= 4)\n",
        "\n",
        "print(f\"Discount qualifies for part a: {discount_qualifies}\")\n"
      ],
      "metadata": {
        "colab": {
          "base_uri": "https://localhost:8080/"
        },
        "id": "KFUXyhQekw8W",
        "outputId": "6e099d0e-355b-4e0c-bd57-f4c7a8bd3270"
      },
      "execution_count": 34,
      "outputs": [
        {
          "output_type": "stream",
          "name": "stdout",
          "text": [
            "Discount qualifies for part a: False\n"
          ]
        }
      ]
    },
    {
      "cell_type": "code",
      "source": [
        "# values for part b\n",
        "age = 10\n",
        "is_weekday = True\n",
        "is_family_day = False\n",
        "group_size = 2\n",
        "\n",
        "# check for discount eligibility\n",
        "discount_qualifies = (age <= 12 and is_weekday) or (age >= 65) or (is_family_day and group_size >= 4)\n",
        "\n",
        "print(f\"Discount qualifies for part b: {discount_qualifies}\")\n"
      ],
      "metadata": {
        "colab": {
          "base_uri": "https://localhost:8080/"
        },
        "id": "jJlbYQ1JAjVp",
        "outputId": "4adcf128-9372-4d01-98cd-ed090d2c1119"
      },
      "execution_count": 35,
      "outputs": [
        {
          "output_type": "stream",
          "name": "stdout",
          "text": [
            "Discount qualifies for part b: True\n"
          ]
        }
      ]
    },
    {
      "cell_type": "markdown",
      "source": [],
      "metadata": {
        "id": "eYTem7Q4B--f"
      }
    },
    {
      "cell_type": "code",
      "source": [
        "# Question 3\n",
        "secret_message = \"PyThoN_Is_FuN_AnD_PoWeRfUl!\"\n",
        "\n",
        "# a. Character at index 5\n",
        "character = secret_message[5]\n",
        "print(f\"Character at index 5: {character}\")\n"
      ],
      "metadata": {
        "colab": {
          "base_uri": "https://localhost:8080/"
        },
        "id": "5QIlXPxklzxN",
        "outputId": "ff3ef632-cc77-4144-e540-62931ee76341"
      },
      "execution_count": 36,
      "outputs": [
        {
          "output_type": "stream",
          "name": "stdout",
          "text": [
            "Character at index 5: N\n"
          ]
        }
      ]
    },
    {
      "cell_type": "code",
      "source": [
        "# b. Extract the substring \"Is_FuN\"\n",
        "substring = secret_message[7:13]\n",
        "print(f\"Substring 'Is_FuN': {substring}\")\n"
      ],
      "metadata": {
        "colab": {
          "base_uri": "https://localhost:8080/"
        },
        "id": "MADzUGb5BA01",
        "outputId": "72131d89-2f1c-4224-c879-6e0884e63c2f"
      },
      "execution_count": 37,
      "outputs": [
        {
          "output_type": "stream",
          "name": "stdout",
          "text": [
            "Substring 'Is_FuN': Is_FuN\n"
          ]
        }
      ]
    },
    {
      "cell_type": "code",
      "source": [
        "# c. Extract the substring \"PoWeRfUl\"\n",
        "substring = secret_message[-9:-1]\n",
        "print(f\"Substring 'PoWeRfUl': {substring}\")\n"
      ],
      "metadata": {
        "colab": {
          "base_uri": "https://localhost:8080/"
        },
        "id": "UmoMdqjfBFAM",
        "outputId": "c28883b1-f785-451d-a6f7-59fb1c9eed1d"
      },
      "execution_count": 38,
      "outputs": [
        {
          "output_type": "stream",
          "name": "stdout",
          "text": [
            "Substring 'PoWeRfUl': PoWeRfUl\n"
          ]
        }
      ]
    },
    {
      "cell_type": "code",
      "source": [
        "# d. Every 4th character\n",
        "every_4th_character = secret_message[0::4]\n",
        "print(f\"Every 4th character: {every_4th_character}\")\n"
      ],
      "metadata": {
        "colab": {
          "base_uri": "https://localhost:8080/"
        },
        "id": "QXKEcY5QBGmH",
        "outputId": "09e04eed-d4fb-46ee-9223-73048569dba9"
      },
      "execution_count": 39,
      "outputs": [
        {
          "output_type": "stream",
          "name": "stdout",
          "text": [
            "Every 4th character: PosNDWU\n"
          ]
        }
      ]
    },
    {
      "cell_type": "code",
      "source": [
        "# e. Accessing secret_message[50]\n",
        "try:\n",
        "    character = secret_message[50]\n",
        "except IndexError as e:\n",
        "    print(f\"Error accessing secret_message[50]: {e}\")"
      ],
      "metadata": {
        "colab": {
          "base_uri": "https://localhost:8080/"
        },
        "id": "ok3Mx1DdBIOu",
        "outputId": "618c7afb-6089-4a6a-b12a-fb533166376c"
      },
      "execution_count": 40,
      "outputs": [
        {
          "output_type": "stream",
          "name": "stdout",
          "text": [
            "Error accessing secret_message[50]: string index out of range\n"
          ]
        }
      ]
    },
    {
      "cell_type": "code",
      "source": [
        "# Question 4\n",
        "\n",
        "x = 15\n",
        "y = 25\n",
        "z = 15\n",
        "text = \"adventure\"\n",
        "\n",
        "# a.\n",
        "result_a = (x == z) and (y > x)\n",
        "print(f\"Result of (x == z) and (y > x): {result_a}\")\n"
      ],
      "metadata": {
        "colab": {
          "base_uri": "https://localhost:8080/"
        },
        "id": "y_L0s2vGmqR7",
        "outputId": "693b138a-a022-455e-9593-0e5caa620e9c"
      },
      "execution_count": 41,
      "outputs": [
        {
          "output_type": "stream",
          "name": "stdout",
          "text": [
            "Result of (x == z) and (y > x): True\n"
          ]
        }
      ]
    },
    {
      "cell_type": "code",
      "source": [
        "# b.\n",
        "result_b = (x != z) or (y < x) or (len(text) < 5)\n",
        "print(f\"Result of (x != z) or (y < x) or (len(text) < 5): {result_b}\")\n"
      ],
      "metadata": {
        "colab": {
          "base_uri": "https://localhost:8080/"
        },
        "id": "GU4WXvTZGPtv",
        "outputId": "3f25399f-076c-4b30-a3d0-be97e05ada9a"
      },
      "execution_count": 42,
      "outputs": [
        {
          "output_type": "stream",
          "name": "stdout",
          "text": [
            "Result of (x != z) or (y < x) or (len(text) < 5): False\n"
          ]
        }
      ]
    },
    {
      "cell_type": "code",
      "source": [
        "# c.\n",
        "result_c = not ((x > y) and (text == \"Adventure\"))\n",
        "print(f\"Result of not ((x > y) and (text == 'Adventure')): {result_c}\")"
      ],
      "metadata": {
        "colab": {
          "base_uri": "https://localhost:8080/"
        },
        "id": "q7Z88VarGR87",
        "outputId": "e922556a-6345-405e-c5d9-3a5ea780e8a6"
      },
      "execution_count": 43,
      "outputs": [
        {
          "output_type": "stream",
          "name": "stdout",
          "text": [
            "Result of not ((x > y) and (text == 'Adventure')): True\n"
          ]
        }
      ]
    },
    {
      "cell_type": "code",
      "source": [
        "# Question 5\n",
        "\n",
        "# a.\n",
        "username = \"MyUser 123\"\n",
        "try:\n",
        "    username[0] = 'm'\n",
        "except TypeError as e:\n",
        "    print(f\"Error: {e}\")"
      ],
      "metadata": {
        "colab": {
          "base_uri": "https://localhost:8080/"
        },
        "id": "vLss5yKOnAtb",
        "outputId": "abd5f125-f30c-4e13-ee72-420fd23bfe18"
      },
      "execution_count": 46,
      "outputs": [
        {
          "output_type": "stream",
          "name": "stdout",
          "text": [
            "Error: 'str' object does not support item assignment\n"
          ]
        }
      ]
    },
    {
      "cell_type": "code",
      "source": [
        "# b.\n",
        "\n",
        "quote = \" practice makes perfect \"\n",
        "\n",
        "# 1. Remove leading and trailing whitespace\n",
        "quote = quote.strip()"
      ],
      "metadata": {
        "id": "CjDj35IaGq-t"
      },
      "execution_count": 47,
      "outputs": []
    },
    {
      "cell_type": "code",
      "source": [
        "# 2. Convert the entire quote to uppercase\n",
        "quote = quote.upper()\n"
      ],
      "metadata": {
        "id": "deW4e8wEGuWR"
      },
      "execution_count": 48,
      "outputs": []
    },
    {
      "cell_type": "code",
      "source": [
        "# 3. Replace \"PERFECT\" with \"PROGRESS\"\n",
        "formatted_quote = quote.replace(\"PERFECT\", \"PROGRESS\")\n",
        "\n",
        "print(formatted_quote)"
      ],
      "metadata": {
        "colab": {
          "base_uri": "https://localhost:8080/"
        },
        "id": "oln6yZjZGxAX",
        "outputId": "72d4e9d3-d4a0-4ad5-8245-a2885622e977"
      },
      "execution_count": 49,
      "outputs": [
        {
          "output_type": "stream",
          "name": "stdout",
          "text": [
            "PRACTICE MAKES PROGRESS\n"
          ]
        }
      ]
    },
    {
      "cell_type": "code",
      "source": [
        "# c. Find the length\n",
        "original_length = len(\" practice makes perfect \")\n",
        "formatted_length = len(formatted_quote)\n",
        "\n",
        "print(f\"Length of the original quote: {original_length}\")\n",
        "print(f\"Length of the formatted quote: {formatted_length}\")"
      ],
      "metadata": {
        "colab": {
          "base_uri": "https://localhost:8080/"
        },
        "id": "wdi3g_K0G0gJ",
        "outputId": "2433a662-9f7c-44ee-bdd8-1a3ff8e8c562"
      },
      "execution_count": 50,
      "outputs": [
        {
          "output_type": "stream",
          "name": "stdout",
          "text": [
            "Length of the original quote: 24\n",
            "Length of the formatted quote: 23\n"
          ]
        }
      ]
    }
  ]
}